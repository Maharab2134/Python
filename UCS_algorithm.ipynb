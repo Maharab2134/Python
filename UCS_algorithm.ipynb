{
  "nbformat": 4,
  "nbformat_minor": 0,
  "metadata": {
    "colab": {
      "provenance": []
    },
    "kernelspec": {
      "name": "python3",
      "display_name": "Python 3"
    },
    "language_info": {
      "name": "python"
    }
  },
  "cells": [
    {
      "cell_type": "markdown",
      "source": [
        "# **UCS Algorithm**"
      ],
      "metadata": {
        "id": "-UfHUdJq-M_T"
      }
    },
    {
      "cell_type": "code",
      "source": [
        "import heapq\n",
        "\n",
        "def ucs(graph, start, goal):\n",
        "    # Priority queue: elements are tuples (cost, node, path)\n",
        "    queue = [(0, start, [start])]\n",
        "    visited = set()\n",
        "\n",
        "    while queue:\n",
        "        cost, node, path = heapq.heappop(queue)\n",
        "\n",
        "        if node == goal:\n",
        "            return path, cost\n",
        "\n",
        "        if node not in visited:\n",
        "            visited.add(node)\n",
        "            for neighbor, weight in graph.get(node, []):\n",
        "                if neighbor not in visited:\n",
        "                    heapq.heappush(queue, (cost + weight, neighbor, path + [neighbor]))\n",
        "\n",
        "    return None, float('inf')\n",
        "\n",
        "# Graph with edge costs\n",
        "graph_with_costs = {\n",
        "    'A': [('L', 1), ('M', 2), ('C', 3)],\n",
        "    'L': [('A', 1), ('P', 2)],\n",
        "    'M': [('A', 2), ('K', 1), ('R', 3)],\n",
        "    'C': [('T', 4), ('G', 2), ('A', 3)],\n",
        "    'P': [('L', 2)],\n",
        "    'K': [('M', 1)],\n",
        "    'R': [('M', 3)],\n",
        "    'T': [('C', 4)],\n",
        "    'G': [('C', 2)]\n",
        "}\n",
        "\n",
        "start_node = 'A'\n",
        "goal_node = 'T'\n",
        "\n",
        "path, total_cost = ucs(graph_with_costs, start_node, goal_node)\n",
        "\n",
        "if path:\n",
        "    print(\"The path:\", path)\n",
        "    print(\"Total cost:\", total_cost)\n",
        "else:\n",
        "    print(\"No path found.\")\n"
      ],
      "metadata": {
        "colab": {
          "base_uri": "https://localhost:8080/"
        },
        "id": "L5-GV--q9TtV",
        "outputId": "e8ce5ca2-0c4d-4aef-df02-64cabd003de1"
      },
      "execution_count": 6,
      "outputs": [
        {
          "output_type": "stream",
          "name": "stdout",
          "text": [
            "The path: ['A', 'C', 'T']\n",
            "Total cost: 7\n"
          ]
        }
      ]
    }
  ]
}