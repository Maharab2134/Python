{
  "nbformat": 4,
  "nbformat_minor": 0,
  "metadata": {
    "colab": {
      "provenance": []
    },
    "kernelspec": {
      "name": "python3",
      "display_name": "Python 3"
    },
    "language_info": {
      "name": "python"
    }
  },
  "cells": [
    {
      "cell_type": "code",
      "execution_count": null,
      "metadata": {
        "colab": {
          "base_uri": "https://localhost:8080/"
        },
        "collapsed": true,
        "id": "nyzugAn6qlMA",
        "outputId": "b754bcfc-7c48-41ce-be1c-a63120c6961a"
      },
      "outputs": [
        {
          "output_type": "stream",
          "name": "stdout",
          "text": [
            "[[ 6.87  0.    0.  ]\n",
            " [ 9.75  8.31  1.  ]\n",
            " [ 8.66  7.83  1.  ]\n",
            " [ 7.99  0.    0.  ]\n",
            " [ 5.78  0.    0.  ]\n",
            " [ 5.78  0.    0.  ]\n",
            " [ 5.29  0.    0.  ]\n",
            " [ 9.33  4.82  1.  ]\n",
            " [ 8.01  7.62  1.  ]\n",
            " [ 8.54  5.33  1.  ]\n",
            " [ 5.1   0.    0.  ]\n",
            " [ 9.85 11.5   1.  ]\n",
            " [ 9.16 10.45  1.  ]\n",
            " [ 6.06  0.    0.  ]\n",
            " [ 5.91  0.    0.  ]\n",
            " [ 5.92  0.    0.  ]\n",
            " [ 6.52  0.    0.  ]\n",
            " [ 7.62  8.97  1.  ]\n",
            " [ 7.16  0.    0.  ]\n",
            " [ 6.46  0.    0.  ]\n",
            " [ 8.06  5.69  1.  ]\n",
            " [ 5.7   0.    0.  ]\n",
            " [ 6.46  0.    0.  ]\n",
            " [ 6.83  0.    0.  ]\n",
            " [ 7.28  0.    0.  ]\n",
            " [ 8.93  7.95  1.  ]\n",
            " [ 6.    0.    0.  ]\n",
            " [ 7.57  0.    0.  ]\n",
            " [ 7.96  7.16  1.  ]\n",
            " [ 5.23  0.    0.  ]\n",
            " [ 8.04  7.48  1.  ]\n",
            " [ 5.85  0.    0.  ]\n",
            " [ 5.33  0.    0.  ]\n",
            " [ 9.74  8.4   1.  ]\n",
            " [ 9.83 10.95  1.  ]\n",
            " [ 9.04  9.21  1.  ]\n",
            " [ 6.52  0.    0.  ]\n",
            " [ 5.49  5.44  1.  ]\n",
            " [ 8.42  6.33  1.  ]\n",
            " [ 7.2   5.08  1.  ]\n",
            " [ 5.61  0.    0.  ]\n",
            " [ 7.48  0.    0.  ]\n",
            " [ 5.17  0.    0.  ]\n",
            " [ 9.55 10.88  1.  ]\n",
            " [ 6.29  5.4   1.  ]\n",
            " [ 8.31  7.07  1.  ]\n",
            " [ 6.56  6.95  1.  ]\n",
            " [ 7.6   0.    0.  ]\n",
            " [ 7.73  7.66  1.  ]\n",
            " [ 5.92  6.26  1.  ]]\n"
          ]
        }
      ],
      "source": [
        "#Dataset\n",
        "import numpy as np\n",
        "\n",
        "np.random.seed(42)\n",
        "\n",
        "cgpa = np.round(np.random.uniform(5.0, 10.0, 100), 2)\n",
        "placement = (cgpa + np.random.normal(0, 1, 100)) > 7.0\n",
        "placement = placement.astype(int)\n",
        "package = np.where(placement == 1, np.round(cgpa * np.random.uniform(0.5, 1.2, 100), 2), 0.0)\n",
        "\n",
        "dataset = np.column_stack((cgpa, package, placement))\n",
        "\n",
        "np.savetxt(\"placement_multi_linear_reg.csv\", dataset, delimiter=\",\", header=\"cgpa,package,placement\", comments='')\n",
        "\n",
        "print(dataset[:50])\n"
      ]
    },
    {
      "cell_type": "code",
      "source": [
        "import pandas as pd\n",
        "df = pd.read_csv('/content/placement_multi_linear_reg.csv')\n",
        "df"
      ],
      "metadata": {
        "colab": {
          "base_uri": "https://localhost:8080/",
          "height": 424
        },
        "id": "rBc9OjmvrkEq",
        "outputId": "1ed138e3-c655-4563-e6d3-0b10411db107"
      },
      "execution_count": null,
      "outputs": [
        {
          "output_type": "execute_result",
          "data": {
            "text/plain": [
              "    cgpa  package  placement\n",
              "0   6.87     0.00        0.0\n",
              "1   9.75     8.31        1.0\n",
              "2   8.66     7.83        1.0\n",
              "3   7.99     0.00        0.0\n",
              "4   5.78     0.00        0.0\n",
              "..   ...      ...        ...\n",
              "95  7.47     0.00        0.0\n",
              "96  7.61     6.76        1.0\n",
              "97  7.14     6.63        1.0\n",
              "98  5.13     0.00        0.0\n",
              "99  5.54     0.00        0.0\n",
              "\n",
              "[100 rows x 3 columns]"
            ],
            "text/html": [
              "\n",
              "  <div id=\"df-b4369002-ff34-4910-a62d-f96ef815ae51\" class=\"colab-df-container\">\n",
              "    <div>\n",
              "<style scoped>\n",
              "    .dataframe tbody tr th:only-of-type {\n",
              "        vertical-align: middle;\n",
              "    }\n",
              "\n",
              "    .dataframe tbody tr th {\n",
              "        vertical-align: top;\n",
              "    }\n",
              "\n",
              "    .dataframe thead th {\n",
              "        text-align: right;\n",
              "    }\n",
              "</style>\n",
              "<table border=\"1\" class=\"dataframe\">\n",
              "  <thead>\n",
              "    <tr style=\"text-align: right;\">\n",
              "      <th></th>\n",
              "      <th>cgpa</th>\n",
              "      <th>package</th>\n",
              "      <th>placement</th>\n",
              "    </tr>\n",
              "  </thead>\n",
              "  <tbody>\n",
              "    <tr>\n",
              "      <th>0</th>\n",
              "      <td>6.87</td>\n",
              "      <td>0.00</td>\n",
              "      <td>0.0</td>\n",
              "    </tr>\n",
              "    <tr>\n",
              "      <th>1</th>\n",
              "      <td>9.75</td>\n",
              "      <td>8.31</td>\n",
              "      <td>1.0</td>\n",
              "    </tr>\n",
              "    <tr>\n",
              "      <th>2</th>\n",
              "      <td>8.66</td>\n",
              "      <td>7.83</td>\n",
              "      <td>1.0</td>\n",
              "    </tr>\n",
              "    <tr>\n",
              "      <th>3</th>\n",
              "      <td>7.99</td>\n",
              "      <td>0.00</td>\n",
              "      <td>0.0</td>\n",
              "    </tr>\n",
              "    <tr>\n",
              "      <th>4</th>\n",
              "      <td>5.78</td>\n",
              "      <td>0.00</td>\n",
              "      <td>0.0</td>\n",
              "    </tr>\n",
              "    <tr>\n",
              "      <th>...</th>\n",
              "      <td>...</td>\n",
              "      <td>...</td>\n",
              "      <td>...</td>\n",
              "    </tr>\n",
              "    <tr>\n",
              "      <th>95</th>\n",
              "      <td>7.47</td>\n",
              "      <td>0.00</td>\n",
              "      <td>0.0</td>\n",
              "    </tr>\n",
              "    <tr>\n",
              "      <th>96</th>\n",
              "      <td>7.61</td>\n",
              "      <td>6.76</td>\n",
              "      <td>1.0</td>\n",
              "    </tr>\n",
              "    <tr>\n",
              "      <th>97</th>\n",
              "      <td>7.14</td>\n",
              "      <td>6.63</td>\n",
              "      <td>1.0</td>\n",
              "    </tr>\n",
              "    <tr>\n",
              "      <th>98</th>\n",
              "      <td>5.13</td>\n",
              "      <td>0.00</td>\n",
              "      <td>0.0</td>\n",
              "    </tr>\n",
              "    <tr>\n",
              "      <th>99</th>\n",
              "      <td>5.54</td>\n",
              "      <td>0.00</td>\n",
              "      <td>0.0</td>\n",
              "    </tr>\n",
              "  </tbody>\n",
              "</table>\n",
              "<p>100 rows × 3 columns</p>\n",
              "</div>\n",
              "    <div class=\"colab-df-buttons\">\n",
              "\n",
              "  <div class=\"colab-df-container\">\n",
              "    <button class=\"colab-df-convert\" onclick=\"convertToInteractive('df-b4369002-ff34-4910-a62d-f96ef815ae51')\"\n",
              "            title=\"Convert this dataframe to an interactive table.\"\n",
              "            style=\"display:none;\">\n",
              "\n",
              "  <svg xmlns=\"http://www.w3.org/2000/svg\" height=\"24px\" viewBox=\"0 -960 960 960\">\n",
              "    <path d=\"M120-120v-720h720v720H120Zm60-500h600v-160H180v160Zm220 220h160v-160H400v160Zm0 220h160v-160H400v160ZM180-400h160v-160H180v160Zm440 0h160v-160H620v160ZM180-180h160v-160H180v160Zm440 0h160v-160H620v160Z\"/>\n",
              "  </svg>\n",
              "    </button>\n",
              "\n",
              "  <style>\n",
              "    .colab-df-container {\n",
              "      display:flex;\n",
              "      gap: 12px;\n",
              "    }\n",
              "\n",
              "    .colab-df-convert {\n",
              "      background-color: #E8F0FE;\n",
              "      border: none;\n",
              "      border-radius: 50%;\n",
              "      cursor: pointer;\n",
              "      display: none;\n",
              "      fill: #1967D2;\n",
              "      height: 32px;\n",
              "      padding: 0 0 0 0;\n",
              "      width: 32px;\n",
              "    }\n",
              "\n",
              "    .colab-df-convert:hover {\n",
              "      background-color: #E2EBFA;\n",
              "      box-shadow: 0px 1px 2px rgba(60, 64, 67, 0.3), 0px 1px 3px 1px rgba(60, 64, 67, 0.15);\n",
              "      fill: #174EA6;\n",
              "    }\n",
              "\n",
              "    .colab-df-buttons div {\n",
              "      margin-bottom: 4px;\n",
              "    }\n",
              "\n",
              "    [theme=dark] .colab-df-convert {\n",
              "      background-color: #3B4455;\n",
              "      fill: #D2E3FC;\n",
              "    }\n",
              "\n",
              "    [theme=dark] .colab-df-convert:hover {\n",
              "      background-color: #434B5C;\n",
              "      box-shadow: 0px 1px 3px 1px rgba(0, 0, 0, 0.15);\n",
              "      filter: drop-shadow(0px 1px 2px rgba(0, 0, 0, 0.3));\n",
              "      fill: #FFFFFF;\n",
              "    }\n",
              "  </style>\n",
              "\n",
              "    <script>\n",
              "      const buttonEl =\n",
              "        document.querySelector('#df-b4369002-ff34-4910-a62d-f96ef815ae51 button.colab-df-convert');\n",
              "      buttonEl.style.display =\n",
              "        google.colab.kernel.accessAllowed ? 'block' : 'none';\n",
              "\n",
              "      async function convertToInteractive(key) {\n",
              "        const element = document.querySelector('#df-b4369002-ff34-4910-a62d-f96ef815ae51');\n",
              "        const dataTable =\n",
              "          await google.colab.kernel.invokeFunction('convertToInteractive',\n",
              "                                                    [key], {});\n",
              "        if (!dataTable) return;\n",
              "\n",
              "        const docLinkHtml = 'Like what you see? Visit the ' +\n",
              "          '<a target=\"_blank\" href=https://colab.research.google.com/notebooks/data_table.ipynb>data table notebook</a>'\n",
              "          + ' to learn more about interactive tables.';\n",
              "        element.innerHTML = '';\n",
              "        dataTable['output_type'] = 'display_data';\n",
              "        await google.colab.output.renderOutput(dataTable, element);\n",
              "        const docLink = document.createElement('div');\n",
              "        docLink.innerHTML = docLinkHtml;\n",
              "        element.appendChild(docLink);\n",
              "      }\n",
              "    </script>\n",
              "  </div>\n",
              "\n",
              "\n",
              "    <div id=\"df-5305fbc6-de5b-4a66-8d79-630cd5082160\">\n",
              "      <button class=\"colab-df-quickchart\" onclick=\"quickchart('df-5305fbc6-de5b-4a66-8d79-630cd5082160')\"\n",
              "                title=\"Suggest charts\"\n",
              "                style=\"display:none;\">\n",
              "\n",
              "<svg xmlns=\"http://www.w3.org/2000/svg\" height=\"24px\"viewBox=\"0 0 24 24\"\n",
              "     width=\"24px\">\n",
              "    <g>\n",
              "        <path d=\"M19 3H5c-1.1 0-2 .9-2 2v14c0 1.1.9 2 2 2h14c1.1 0 2-.9 2-2V5c0-1.1-.9-2-2-2zM9 17H7v-7h2v7zm4 0h-2V7h2v10zm4 0h-2v-4h2v4z\"/>\n",
              "    </g>\n",
              "</svg>\n",
              "      </button>\n",
              "\n",
              "<style>\n",
              "  .colab-df-quickchart {\n",
              "      --bg-color: #E8F0FE;\n",
              "      --fill-color: #1967D2;\n",
              "      --hover-bg-color: #E2EBFA;\n",
              "      --hover-fill-color: #174EA6;\n",
              "      --disabled-fill-color: #AAA;\n",
              "      --disabled-bg-color: #DDD;\n",
              "  }\n",
              "\n",
              "  [theme=dark] .colab-df-quickchart {\n",
              "      --bg-color: #3B4455;\n",
              "      --fill-color: #D2E3FC;\n",
              "      --hover-bg-color: #434B5C;\n",
              "      --hover-fill-color: #FFFFFF;\n",
              "      --disabled-bg-color: #3B4455;\n",
              "      --disabled-fill-color: #666;\n",
              "  }\n",
              "\n",
              "  .colab-df-quickchart {\n",
              "    background-color: var(--bg-color);\n",
              "    border: none;\n",
              "    border-radius: 50%;\n",
              "    cursor: pointer;\n",
              "    display: none;\n",
              "    fill: var(--fill-color);\n",
              "    height: 32px;\n",
              "    padding: 0;\n",
              "    width: 32px;\n",
              "  }\n",
              "\n",
              "  .colab-df-quickchart:hover {\n",
              "    background-color: var(--hover-bg-color);\n",
              "    box-shadow: 0 1px 2px rgba(60, 64, 67, 0.3), 0 1px 3px 1px rgba(60, 64, 67, 0.15);\n",
              "    fill: var(--button-hover-fill-color);\n",
              "  }\n",
              "\n",
              "  .colab-df-quickchart-complete:disabled,\n",
              "  .colab-df-quickchart-complete:disabled:hover {\n",
              "    background-color: var(--disabled-bg-color);\n",
              "    fill: var(--disabled-fill-color);\n",
              "    box-shadow: none;\n",
              "  }\n",
              "\n",
              "  .colab-df-spinner {\n",
              "    border: 2px solid var(--fill-color);\n",
              "    border-color: transparent;\n",
              "    border-bottom-color: var(--fill-color);\n",
              "    animation:\n",
              "      spin 1s steps(1) infinite;\n",
              "  }\n",
              "\n",
              "  @keyframes spin {\n",
              "    0% {\n",
              "      border-color: transparent;\n",
              "      border-bottom-color: var(--fill-color);\n",
              "      border-left-color: var(--fill-color);\n",
              "    }\n",
              "    20% {\n",
              "      border-color: transparent;\n",
              "      border-left-color: var(--fill-color);\n",
              "      border-top-color: var(--fill-color);\n",
              "    }\n",
              "    30% {\n",
              "      border-color: transparent;\n",
              "      border-left-color: var(--fill-color);\n",
              "      border-top-color: var(--fill-color);\n",
              "      border-right-color: var(--fill-color);\n",
              "    }\n",
              "    40% {\n",
              "      border-color: transparent;\n",
              "      border-right-color: var(--fill-color);\n",
              "      border-top-color: var(--fill-color);\n",
              "    }\n",
              "    60% {\n",
              "      border-color: transparent;\n",
              "      border-right-color: var(--fill-color);\n",
              "    }\n",
              "    80% {\n",
              "      border-color: transparent;\n",
              "      border-right-color: var(--fill-color);\n",
              "      border-bottom-color: var(--fill-color);\n",
              "    }\n",
              "    90% {\n",
              "      border-color: transparent;\n",
              "      border-bottom-color: var(--fill-color);\n",
              "    }\n",
              "  }\n",
              "</style>\n",
              "\n",
              "      <script>\n",
              "        async function quickchart(key) {\n",
              "          const quickchartButtonEl =\n",
              "            document.querySelector('#' + key + ' button');\n",
              "          quickchartButtonEl.disabled = true;  // To prevent multiple clicks.\n",
              "          quickchartButtonEl.classList.add('colab-df-spinner');\n",
              "          try {\n",
              "            const charts = await google.colab.kernel.invokeFunction(\n",
              "                'suggestCharts', [key], {});\n",
              "          } catch (error) {\n",
              "            console.error('Error during call to suggestCharts:', error);\n",
              "          }\n",
              "          quickchartButtonEl.classList.remove('colab-df-spinner');\n",
              "          quickchartButtonEl.classList.add('colab-df-quickchart-complete');\n",
              "        }\n",
              "        (() => {\n",
              "          let quickchartButtonEl =\n",
              "            document.querySelector('#df-5305fbc6-de5b-4a66-8d79-630cd5082160 button');\n",
              "          quickchartButtonEl.style.display =\n",
              "            google.colab.kernel.accessAllowed ? 'block' : 'none';\n",
              "        })();\n",
              "      </script>\n",
              "    </div>\n",
              "\n",
              "  <div id=\"id_898e1e9b-443b-4c5e-b86c-72401aa43954\">\n",
              "    <style>\n",
              "      .colab-df-generate {\n",
              "        background-color: #E8F0FE;\n",
              "        border: none;\n",
              "        border-radius: 50%;\n",
              "        cursor: pointer;\n",
              "        display: none;\n",
              "        fill: #1967D2;\n",
              "        height: 32px;\n",
              "        padding: 0 0 0 0;\n",
              "        width: 32px;\n",
              "      }\n",
              "\n",
              "      .colab-df-generate:hover {\n",
              "        background-color: #E2EBFA;\n",
              "        box-shadow: 0px 1px 2px rgba(60, 64, 67, 0.3), 0px 1px 3px 1px rgba(60, 64, 67, 0.15);\n",
              "        fill: #174EA6;\n",
              "      }\n",
              "\n",
              "      [theme=dark] .colab-df-generate {\n",
              "        background-color: #3B4455;\n",
              "        fill: #D2E3FC;\n",
              "      }\n",
              "\n",
              "      [theme=dark] .colab-df-generate:hover {\n",
              "        background-color: #434B5C;\n",
              "        box-shadow: 0px 1px 3px 1px rgba(0, 0, 0, 0.15);\n",
              "        filter: drop-shadow(0px 1px 2px rgba(0, 0, 0, 0.3));\n",
              "        fill: #FFFFFF;\n",
              "      }\n",
              "    </style>\n",
              "    <button class=\"colab-df-generate\" onclick=\"generateWithVariable('df')\"\n",
              "            title=\"Generate code using this dataframe.\"\n",
              "            style=\"display:none;\">\n",
              "\n",
              "  <svg xmlns=\"http://www.w3.org/2000/svg\" height=\"24px\"viewBox=\"0 0 24 24\"\n",
              "       width=\"24px\">\n",
              "    <path d=\"M7,19H8.4L18.45,9,17,7.55,7,17.6ZM5,21V16.75L18.45,3.32a2,2,0,0,1,2.83,0l1.4,1.43a1.91,1.91,0,0,1,.58,1.4,1.91,1.91,0,0,1-.58,1.4L9.25,21ZM18.45,9,17,7.55Zm-12,3A5.31,5.31,0,0,0,4.9,8.1,5.31,5.31,0,0,0,1,6.5,5.31,5.31,0,0,0,4.9,4.9,5.31,5.31,0,0,0,6.5,1,5.31,5.31,0,0,0,8.1,4.9,5.31,5.31,0,0,0,12,6.5,5.46,5.46,0,0,0,6.5,12Z\"/>\n",
              "  </svg>\n",
              "    </button>\n",
              "    <script>\n",
              "      (() => {\n",
              "      const buttonEl =\n",
              "        document.querySelector('#id_898e1e9b-443b-4c5e-b86c-72401aa43954 button.colab-df-generate');\n",
              "      buttonEl.style.display =\n",
              "        google.colab.kernel.accessAllowed ? 'block' : 'none';\n",
              "\n",
              "      buttonEl.onclick = () => {\n",
              "        google.colab.notebook.generateWithVariable('df');\n",
              "      }\n",
              "      })();\n",
              "    </script>\n",
              "  </div>\n",
              "\n",
              "    </div>\n",
              "  </div>\n"
            ],
            "application/vnd.google.colaboratory.intrinsic+json": {
              "type": "dataframe",
              "variable_name": "df",
              "summary": "{\n  \"name\": \"df\",\n  \"rows\": 100,\n  \"fields\": [\n    {\n      \"column\": \"cgpa\",\n      \"properties\": {\n        \"dtype\": \"number\",\n        \"std\": 1.4875355899315927,\n        \"min\": 5.03,\n        \"max\": 9.93,\n        \"num_unique_values\": 88,\n        \"samples\": [\n          9.44,\n          6.87,\n          7.96\n        ],\n        \"semantic_type\": \"\",\n        \"description\": \"\"\n      }\n    },\n    {\n      \"column\": \"package\",\n      \"properties\": {\n        \"dtype\": \"number\",\n        \"std\": 3.9031997997499017,\n        \"min\": 0.0,\n        \"max\": 11.5,\n        \"num_unique_values\": 53,\n        \"samples\": [\n          10.88,\n          7.519999999999999,\n          4.97\n        ],\n        \"semantic_type\": \"\",\n        \"description\": \"\"\n      }\n    },\n    {\n      \"column\": \"placement\",\n      \"properties\": {\n        \"dtype\": \"number\",\n        \"std\": 0.501613558046592,\n        \"min\": 0.0,\n        \"max\": 1.0,\n        \"num_unique_values\": 2,\n        \"samples\": [\n          1.0,\n          0.0\n        ],\n        \"semantic_type\": \"\",\n        \"description\": \"\"\n      }\n    }\n  ]\n}"
            }
          },
          "metadata": {},
          "execution_count": 4
        }
      ]
    },
    {
      "cell_type": "markdown",
      "source": [
        "## Question 1: Basic Array Operations"
      ],
      "metadata": {
        "id": "dyx_QU26tHvS"
      }
    },
    {
      "cell_type": "code",
      "source": [
        "cgpa = data[:, 0]\n",
        "package = data[:, 1]\n",
        "\n",
        "cgpa_mean = np.mean(cgpa)\n",
        "cgpa_std = np.std(cgpa)\n",
        "package_mean = np.mean(package)\n",
        "package_std = np.std(package)\n",
        "\n",
        "print(\"First 5 CGPA:\", cgpa[:5])\n",
        "print(\"First 5 Packages:\", package[:5])\n",
        "print(\"CGPA - Mean:\", cgpa_mean, \"Std Dev:\", cgpa_std)\n",
        "print(\"Package - Mean:\", package_mean, \"Std Dev:\", package_std)\n"
      ],
      "metadata": {
        "colab": {
          "base_uri": "https://localhost:8080/"
        },
        "id": "SuOsvTLCsyLH",
        "outputId": "f8b3c712-bf13-40d0-a499-3ffe1c224e3a"
      },
      "execution_count": null,
      "outputs": [
        {
          "output_type": "stream",
          "name": "stdout",
          "text": [
            "\n",
            "Question 1:\n",
            "First 5 CGPA: [6.87 9.75 8.66 7.99 5.78]\n",
            "First 5 Packages: [0.   8.31 7.83 0.   0.  ]\n",
            "CGPA - Mean: 7.3507 Std Dev: 1.4800792242309193\n",
            "Package - Mean: 3.8651 Std Dev: 3.8836347652682277\n"
          ]
        }
      ]
    },
    {
      "cell_type": "markdown",
      "source": [
        "## Question 2: Filtering and Counting"
      ],
      "metadata": {
        "id": "Ut47r8hdtRNV"
      }
    },
    {
      "cell_type": "code",
      "source": [
        "placement = data[:, 2]\n",
        "mask = (cgpa > 7.0) & (placement == 1)\n",
        "filtered = data[mask]\n",
        "\n",
        "print(\"Number of students with CGPA > 7.0 and placed:\", filtered.shape[0])\n",
        "print(\"First 3 rows of filtered data:\\n\", filtered[:3])\n"
      ],
      "metadata": {
        "colab": {
          "base_uri": "https://localhost:8080/"
        },
        "id": "R0uOYMeXtMzM",
        "outputId": "0df3d9fe-d57d-445c-ad77-144bcd94ec1a"
      },
      "execution_count": null,
      "outputs": [
        {
          "output_type": "stream",
          "name": "stdout",
          "text": [
            "\n",
            "Question 2:\n",
            "Number of students with CGPA > 7.0 and placed: 46\n",
            "First 3 rows of filtered data:\n",
            " [[9.75 8.31 1.  ]\n",
            " [8.66 7.83 1.  ]\n",
            " [9.33 4.82 1.  ]]\n"
          ]
        }
      ]
    },
    {
      "cell_type": "markdown",
      "source": [
        "## Question 3: Data Normalization"
      ],
      "metadata": {
        "id": "Bv0IQddwuEbs"
      }
    },
    {
      "cell_type": "code",
      "source": [
        "min_p = np.min(package)\n",
        "max_p = np.max(package)\n",
        "normalized_package = (package - min_p) / (max_p - min_p)  #formula\n",
        "\n",
        "print(\"First 5 normalized package values:\", normalized_package[:5])\n",
        "print(\"Normalized package range: Min =\", np.min(normalized_package), \", Max =\", np.max(normalized_package))\n"
      ],
      "metadata": {
        "colab": {
          "base_uri": "https://localhost:8080/"
        },
        "id": "ErUvmEUAuE6K",
        "outputId": "a2b3cd97-3bbc-4a2d-ded9-ddb5a5f0ca47"
      },
      "execution_count": null,
      "outputs": [
        {
          "output_type": "stream",
          "name": "stdout",
          "text": [
            "First 5 normalized package values: [0.         0.7226087  0.68086957 0.         0.        ]\n",
            "Normalized package range: Min = 0.0 , Max = 1.0\n"
          ]
        }
      ]
    },
    {
      "cell_type": "markdown",
      "source": [
        "## Question 4: Correlation Analysis"
      ],
      "metadata": {
        "id": "2EXrJOIpuYZ-"
      }
    },
    {
      "cell_type": "code",
      "source": [
        "corr_matrix = np.corrcoef(cgpa, package) #using pearson\n",
        "print(\"Correlation matrix:\\n\", corr_matrix)\n",
        "print(\"Interpretation: CGPA and package have a correlation coefficient of\", corr_matrix[0, 1])"
      ],
      "metadata": {
        "colab": {
          "base_uri": "https://localhost:8080/"
        },
        "id": "u1E-T2vfucT4",
        "outputId": "19fb0c8e-cb29-4fd2-8274-b05ed15d3838"
      },
      "execution_count": null,
      "outputs": [
        {
          "output_type": "stream",
          "name": "stdout",
          "text": [
            "Correlation matrix:\n",
            " [[1.         0.78220725]\n",
            " [0.78220725 1.        ]]\n",
            "Interpretation: CGPA and package have a correlation coefficient of 0.7822072504928574\n"
          ]
        }
      ]
    },
    {
      "cell_type": "markdown",
      "source": [
        "## Question 5: Grouping and Aggregation"
      ],
      "metadata": {
        "id": "dEE-354UusFZ"
      }
    },
    {
      "cell_type": "code",
      "source": [
        "placed_mask = placement == 1\n",
        "not_placed_mask = placement == 0\n",
        "\n",
        "avg_package_placed = np.mean(package[placed_mask])\n",
        "avg_package_not_placed = np.mean(package[not_placed_mask])\n",
        "\n",
        "print(\"Average package (placed):\", round(avg_package_placed, 2))\n",
        "print(\"Average package (not placed):\", round(avg_package_not_placed, 2))\n"
      ],
      "metadata": {
        "colab": {
          "base_uri": "https://localhost:8080/"
        },
        "id": "B-F4sSqKuvPs",
        "outputId": "f6a42594-1959-4bde-85e5-cd94ba0a48d0"
      },
      "execution_count": null,
      "outputs": [
        {
          "output_type": "stream",
          "name": "stdout",
          "text": [
            "\n",
            "Question 5:\n",
            "Average package (placed): 7.29\n",
            "Average package (not placed): 0.0\n"
          ]
        }
      ]
    },
    {
      "cell_type": "markdown",
      "source": [
        "### Question 6: Array Manipulation"
      ],
      "metadata": {
        "id": "hk0PY2O4vAQ6"
      }
    },
    {
      "cell_type": "code",
      "source": [
        "high_cgpa_mask = cgpa > 6.5\n",
        "filtered_data = data[high_cgpa_mask][:, [0, 1]]  # only cgpa and package\n",
        "\n",
        "sorted_indices = np.argsort(-filtered_data[:, 1])\n",
        "sorted_filtered = filtered_data[sorted_indices]\n",
        "\n",
        "print(\"Top 5 rows sorted by package:\\n\", sorted_filtered[:5])"
      ],
      "metadata": {
        "colab": {
          "base_uri": "https://localhost:8080/"
        },
        "id": "yTB_yitJvDx5",
        "outputId": "01e563f3-7f02-4185-b35f-a06424145660"
      },
      "execution_count": null,
      "outputs": [
        {
          "output_type": "stream",
          "name": "stdout",
          "text": [
            "Top 5 rows sorted by package:\n",
            " [[ 9.85 11.5 ]\n",
            " [ 9.85 11.06]\n",
            " [ 9.83 10.95]\n",
            " [ 9.55 10.88]\n",
            " [ 9.16 10.45]]\n"
          ]
        }
      ]
    },
    {
      "cell_type": "markdown",
      "source": [
        "### Question 7: Binning CGPA"
      ],
      "metadata": {
        "id": "I3Qt829bviii"
      }
    },
    {
      "cell_type": "code",
      "source": [
        "bins = [0, 6.0, 7.5, np.inf]\n",
        "# categories: 0-Low, 1-Medium, 2-High\n",
        "categories = np.digitize(cgpa, bins) - 1\n",
        "\n",
        "unique, counts = np.unique(categories, return_counts=True)\n",
        "\n",
        "labels = ['Low (<6.0)', 'Medium (6.0-7.5)', 'High (>=7.5)']\n",
        "print(\"\\nQuestion 7:\")\n",
        "for label, count in zip(labels, counts):\n",
        "    print(f\"{label}: {count} students\")\n"
      ],
      "metadata": {
        "colab": {
          "base_uri": "https://localhost:8080/"
        },
        "id": "zRBSN9MYvNH4",
        "outputId": "47638b73-2502-45cf-937e-305b2a107980"
      },
      "execution_count": null,
      "outputs": [
        {
          "output_type": "stream",
          "name": "stdout",
          "text": [
            "\n",
            "Question 7:\n",
            "Low (<6.0): 27 students\n",
            "Medium (6.0-7.5): 26 students\n",
            "High (>=7.5): 47 students\n"
          ]
        }
      ]
    },
    {
      "cell_type": "markdown",
      "source": [
        "### Question 8: Missing Value Handling"
      ],
      "metadata": {
        "id": "mMMkbXeSvmdh"
      }
    },
    {
      "cell_type": "code",
      "source": [
        "package_with_nan = package.copy()\n",
        "num_missing = int(0.1 * len(package))\n",
        "missing_indices = np.random.choice(len(package), size=num_missing, replace=False)\n",
        "package_with_nan[missing_indices] = np.nan\n",
        "\n",
        "median_value = np.nanmedian(package_with_nan)\n",
        "package_with_nan[np.isnan(package_with_nan)] = median_value\n",
        "\n",
        "print(\"Missing values introduced:\", num_missing)\n",
        "print(\"First 5 values of modified package array:\", package_with_nan[:5])\n"
      ],
      "metadata": {
        "colab": {
          "base_uri": "https://localhost:8080/"
        },
        "id": "yicGHTItvpsY",
        "outputId": "0b1e2619-c782-4415-ba77-2fe6ffa73708"
      },
      "execution_count": null,
      "outputs": [
        {
          "output_type": "stream",
          "name": "stdout",
          "text": [
            "Missing values introduced: 10\n",
            "First 5 values of modified package array: [0.   8.31 7.83 0.   0.  ]\n"
          ]
        }
      ]
    },
    {
      "cell_type": "markdown",
      "source": [
        "### Sokaler Nastha"
      ],
      "metadata": {
        "id": "-N2d3MIqwNLR"
      }
    },
    {
      "cell_type": "code",
      "source": [
        "\n",
        "placed_data = data[placement == 1][:, [0, 1]]  # cgpa, package\n",
        "\n",
        "mean_point = np.mean(placed_data, axis=0)\n",
        "distances = np.linalg.norm(placed_data - mean_point, axis=1)\n",
        "\n",
        "max_idx = np.argmax(distances)\n",
        "max_distance = distances[max_idx]\n",
        "student_info = placed_data[max_idx]\n",
        "\n",
        "print(\"Maximum distance from mean:\", max_distance)\n",
        "print(\"Student with max distance - CGPA:\", student_info[0], \", Package:\", student_info[1])"
      ],
      "metadata": {
        "colab": {
          "base_uri": "https://localhost:8080/"
        },
        "id": "eQEqFluev-wR",
        "outputId": "0f180788-fb8b-4a16-ddbc-47bfe30289e2"
      },
      "execution_count": null,
      "outputs": [
        {
          "output_type": "stream",
          "name": "stdout",
          "text": [
            "Maximum distance from mean: 4.450332566242684\n",
            "Student with max distance - CGPA: 9.85 , Package: 11.5\n"
          ]
        }
      ]
    }
  ]
}