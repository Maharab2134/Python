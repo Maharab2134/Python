{
  "nbformat": 4,
  "nbformat_minor": 0,
  "metadata": {
    "colab": {
      "provenance": []
    },
    "kernelspec": {
      "name": "python3",
      "display_name": "Python 3"
    },
    "language_info": {
      "name": "python"
    }
  },
  "cells": [
    {
      "cell_type": "markdown",
      "source": [
        "# **BFS**"
      ],
      "metadata": {
        "id": "1qJ27mao-I68"
      }
    },
    {
      "cell_type": "code",
      "execution_count": 5,
      "metadata": {
        "colab": {
          "base_uri": "https://localhost:8080/"
        },
        "id": "OW-zex_05yE2",
        "outputId": "19eb5f56-7f04-48f1-e7c5-a49c11639052"
      },
      "outputs": [
        {
          "output_type": "stream",
          "name": "stdout",
          "text": [
            "The path\n"
          ]
        },
        {
          "output_type": "execute_result",
          "data": {
            "text/plain": [
              "['A', 'C', 'T']"
            ]
          },
          "metadata": {},
          "execution_count": 5
        }
      ],
      "source": [
        "from collections import deque\n",
        "\n",
        "def bfs(graph, start, goal):\n",
        "    visited = set()\n",
        "    queue = deque([(start,[start])])\n",
        "\n",
        "    while queue:\n",
        "        node, path = queue.popleft()\n",
        "        if node == goal:\n",
        "          return path\n",
        "        if node not in visited:\n",
        "            visited.add(node)\n",
        "            for neighbor in graph[node]:\n",
        "                queue.append((neighbor, path + [neighbor]))\n",
        "\n",
        "\n",
        "\n",
        "graph = {\n",
        "    'A': ['L','M','C'],\n",
        "    'L': ['A', 'P'],\n",
        "    'M': ['A', 'K', 'R'],\n",
        "    'C': ['T','G','A'],\n",
        "    'P': ['L'],\n",
        "    'K': ['M'],\n",
        "    'R': ['M'],\n",
        "    'T': ['C'],\n",
        "    'G': ['C']\n",
        "}\n",
        "\n",
        "print('The path')\n",
        "bfs(graph, 'A', 'T')\n"
      ]
    },
    {
      "cell_type": "markdown",
      "source": [
        "# **DFS**"
      ],
      "metadata": {
        "id": "div44Cy--jgB"
      }
    },
    {
      "cell_type": "code",
      "source": [
        "from collections import deque\n",
        "\n",
        "def dfs(graph, start, goal):\n",
        "    visited = set()\n",
        "    stack = deque([(start,[start])])\n",
        "\n",
        "    while stack:\n",
        "        node, path = stack.popleft()\n",
        "        if node == goal:\n",
        "          return path\n",
        "        if node not in visited:\n",
        "            visited.add(node)\n",
        "            for neighbor in reversed( graph[node]):\n",
        "                stack.append((neighbor, path + [neighbor]))\n",
        "\n",
        "\n",
        "\n",
        "graph = {\n",
        "    'A': ['L','M','C'],\n",
        "    'L': ['A', 'P'],\n",
        "    'M': ['A', 'K', 'R'],\n",
        "    'C': ['T','G','A'],\n",
        "    'P': ['L'],\n",
        "    'K': ['M'],\n",
        "    'R': ['M'],\n",
        "    'T': ['C'],\n",
        "    'G': ['C']\n",
        "}\n",
        "\n",
        "print('The path')\n",
        "dfs(graph, 'A', 'T')\n"
      ],
      "metadata": {
        "colab": {
          "base_uri": "https://localhost:8080/"
        },
        "id": "zBM4K98D9tga",
        "outputId": "c8e77ba8-3787-45ba-e8bd-da330fec4ac0"
      },
      "execution_count": 12,
      "outputs": [
        {
          "output_type": "stream",
          "name": "stdout",
          "text": [
            "The path\n"
          ]
        },
        {
          "output_type": "execute_result",
          "data": {
            "text/plain": [
              "['A', 'C', 'T']"
            ]
          },
          "metadata": {},
          "execution_count": 12
        }
      ]
    },
    {
      "cell_type": "markdown",
      "source": [
        "# **DLS**"
      ],
      "metadata": {
        "id": "Dm5lNDOD-T3B"
      }
    },
    {
      "cell_type": "code",
      "source": [
        "from collections import deque\n",
        "\n",
        "def dls(graph, start, goal, depth_limit):\n",
        "    visited = set()\n",
        "    stack = deque([(start, [start], 0)])\n",
        "\n",
        "    while stack:\n",
        "        node, path, depth = stack.popleft()\n",
        "\n",
        "        if node == goal:\n",
        "            return path\n",
        "\n",
        "        if node not in visited and depth < depth_limit:\n",
        "            visited.add(node)\n",
        "            for neighbor in reversed(graph.get(node, [])):\n",
        "                stack.append((neighbor, path + [neighbor], depth + 1))\n",
        "\n",
        "    return None\n",
        "\n",
        "\n",
        "graph = {\n",
        "    'A': ['L', 'M', 'C'],\n",
        "    'L': ['A', 'P'],\n",
        "    'M': ['A', 'K', 'R'],\n",
        "    'C': ['T', 'G', 'A'],\n",
        "    'P': ['L'],\n",
        "    'K': ['M'],\n",
        "    'R': ['M'],\n",
        "    'T': ['C'],\n",
        "    'G': ['C']\n",
        "}\n",
        "\n",
        "start_node = 'A'\n",
        "goal_node = 'T'\n",
        "depth_limit = 1\n",
        "\n",
        "path = dls(graph, start_node, goal_node, depth_limit)\n",
        "if path:\n",
        "    print(\"The path:\", path)\n",
        "else:\n",
        "    print(\"No path found within depth limit\")\n"
      ],
      "metadata": {
        "colab": {
          "base_uri": "https://localhost:8080/"
        },
        "id": "gqXne4e198a6",
        "outputId": "c88678df-f722-467e-c485-694fa8d7122c"
      },
      "execution_count": 13,
      "outputs": [
        {
          "output_type": "stream",
          "name": "stdout",
          "text": [
            "No path found within depth limit\n"
          ]
        }
      ]
    }
  ]
}